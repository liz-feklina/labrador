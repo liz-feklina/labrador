{
 "cells": [
  {
   "cell_type": "code",
   "execution_count": 26,
   "metadata": {},
   "outputs": [],
   "source": [
    "import random\n",
    "import re\n",
    "\n",
    "with open('sh.txt', 'r', encoding='utf-8') as f:\n",
    "    text = f.read()\n",
    "sentences = re.findall(r'[\\w ,\\-;:—]+[\\.\\?!\\r\\n\\s]+', text)\n",
    "\n",
    "index = list(range(len(sentences)))\n",
    "for i in range(len(sentences)-1):\n",
    "    for j in range(len(sentences)-i-1):\n",
    "        if sentences[index[j]] > sentences[index[j+1]]:\n",
    "            index[j], index[j+1] = index[j+1], index[j]\n",
    "# print(sentences)\n",
    "# for i in index:\n",
    "    # print(sentences[i])\n"
   ]
  },
  {
   "cell_type": "code",
   "execution_count": 32,
   "metadata": {},
   "outputs": [
    {
     "name": "stdout",
     "output_type": "stream",
     "text": [
      "453 µs ± 24.5 µs per loop (mean ± std. dev. of 7 runs, 1000 loops each)\n"
     ]
    }
   ],
   "source": [
    "%%timeit\n",
    "\n",
    "sent = random.choice(sentences)\n",
    "i = 0\n",
    "while sent != sentences[i]:\n",
    "    i+=1\n"
   ]
  },
  {
   "cell_type": "code",
   "execution_count": 33,
   "metadata": {},
   "outputs": [
    {
     "name": "stdout",
     "output_type": "stream",
     "text": [
      "10.4 µs ± 491 ns per loop (mean ± std. dev. of 7 runs, 100000 loops each)\n"
     ]
    }
   ],
   "source": [
    "%%timeit\n",
    "\n",
    "sent = random.choice(sentences)\n",
    "i = 0\n",
    "j = len(index) - 1\n",
    "while i < j:\n",
    "    m = int((i + j) / 2)\n",
    "    if sent > sentences[index[m]]:\n",
    "        i = m + 1\n",
    "    elif sent < sentences[index[m]]:\n",
    "        j = m - 1\n",
    "    else:\n",
    "        break\n",
    "# print(sentences[index[i]])\n"
   ]
  }
 ],
 "metadata": {
  "kernelspec": {
   "display_name": "Python 3",
   "language": "python",
   "name": "python3"
  },
  "language_info": {
   "codemirror_mode": {
    "name": "ipython",
    "version": 3
   },
   "file_extension": ".py",
   "mimetype": "text/x-python",
   "name": "python",
   "nbconvert_exporter": "python",
   "pygments_lexer": "ipython3",
   "version": "3.8.2"
  }
 },
 "nbformat": 4,
 "nbformat_minor": 4
}
